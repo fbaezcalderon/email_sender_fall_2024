{
 "cells": [
  {
   "cell_type": "code",
   "execution_count": 2,
   "metadata": {},
   "outputs": [],
   "source": [
    "from datetime import  datetime\n",
    "import smtplib\n",
    "from email.mime.text import MIMEText\n",
    "from email.mime.multipart import MIMEMultipart\n",
    "import configparser\n",
    "import pandas as pd\n",
    "import numpy as np"
   ]
  },
  {
   "cell_type": "code",
   "execution_count": 3,
   "metadata": {},
   "outputs": [
    {
     "data": {
      "text/plain": [
       "['config.ini']"
      ]
     },
     "execution_count": 3,
     "metadata": {},
     "output_type": "execute_result"
    }
   ],
   "source": [
    "config = configparser.ConfigParser()\n",
    "config.read('config.ini')"
   ]
  },
  {
   "cell_type": "code",
   "execution_count": 6,
   "metadata": {},
   "outputs": [
    {
     "data": {
      "text/plain": [
       "'smtp.gmail.com'"
      ]
     },
     "execution_count": 6,
     "metadata": {},
     "output_type": "execute_result"
    }
   ],
   "source": [
    "config['GMAIL']['server']"
   ]
  },
  {
   "cell_type": "code",
   "execution_count": 9,
   "metadata": {},
   "outputs": [],
   "source": [
    "def send_email(email_recipients, email_subject, email_body):\n",
    "    message =  MIMEMultipart()\n",
    "    message['From'] = config['GMAIL']['sender']\n",
    "    message['To'] =  email_recipients\n",
    "    message['Subject'] = email_subject\n",
    "\n",
    "    message.attach(MIMEText(email_body,'plain'))\n",
    "\n",
    "    with smtplib.SMTP(config['GMAIL']['server'], config['GMAIL']['port']) as mail_server:\n",
    "        mail_server.starttls()  # starts the connection \n",
    "        mail_server.login(config['GMAIL']['sender'],config['GMAIL']['password'])\n",
    "        mail_server.send_message(message)\n",
    "    print('Sent')"
   ]
  },
  {
   "cell_type": "code",
   "execution_count": 10,
   "metadata": {},
   "outputs": [
    {
     "name": "stdout",
     "output_type": "stream",
     "text": [
      "Sent\n"
     ]
    }
   ],
   "source": [
    "send_email('f.baez.calderon@gmail.com','Hello Fabian','This is our email account')"
   ]
  }
 ],
 "metadata": {
  "kernelspec": {
   "display_name": "uxs24",
   "language": "python",
   "name": "python3"
  },
  "language_info": {
   "codemirror_mode": {
    "name": "ipython",
    "version": 3
   },
   "file_extension": ".py",
   "mimetype": "text/x-python",
   "name": "python",
   "nbconvert_exporter": "python",
   "pygments_lexer": "ipython3",
   "version": "3.9.19"
  }
 },
 "nbformat": 4,
 "nbformat_minor": 2
}
