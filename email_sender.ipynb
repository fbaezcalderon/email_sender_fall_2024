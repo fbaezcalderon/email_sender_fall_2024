{
 "cells": [
  {
   "cell_type": "code",
   "execution_count": 2,
   "metadata": {},
   "outputs": [],
   "source": [
    "from datetime import  datetime\n",
    "import smtplib\n",
    "from email.mime.text import MIMEText\n",
    "from email.mime.multipart import MIMEMultipart\n",
    "import configparser\n",
    "import pandas as pd\n",
    "import numpy as np"
   ]
  },
  {
   "cell_type": "code",
   "execution_count": null,
   "metadata": {},
   "outputs": [],
   "source": [
    "my_df =  pd.read_excel('file.xlsx')"
   ]
  },
  {
   "cell_type": "code",
   "execution_count": 3,
   "metadata": {},
   "outputs": [
    {
     "data": {
      "text/plain": [
       "['config.ini']"
      ]
     },
     "execution_count": 3,
     "metadata": {},
     "output_type": "execute_result"
    }
   ],
   "source": [
    "config = configparser.ConfigParser()\n",
    "config.read('config.ini')"
   ]
  },
  {
   "cell_type": "code",
   "execution_count": 6,
   "metadata": {},
   "outputs": [
    {
     "data": {
      "text/plain": [
       "'smtp.gmail.com'"
      ]
     },
     "execution_count": 6,
     "metadata": {},
     "output_type": "execute_result"
    }
   ],
   "source": [
    "config['GMAIL']['server']"
   ]
  },
  {
   "cell_type": "code",
   "execution_count": 9,
   "metadata": {},
   "outputs": [],
   "source": [
    "def send_email(email_recipients, email_subject, email_body):\n",
    "    message =  MIMEMultipart()\n",
    "    message['From'] = config['GMAIL']['sender']\n",
    "    message['To'] =  email_recipients\n",
    "    message['Subject'] = email_subject\n",
    "\n",
    "    message.attach(MIMEText(email_body,'plain'))\n",
    "\n",
    "    with smtplib.SMTP(config['GMAIL']['server'], config['GMAIL']['port']) as mail_server:\n",
    "        mail_server.starttls()  # starts the connection \n",
    "        mail_server.login(config['GMAIL']['sender'],config['GMAIL']['password'])\n",
    "        mail_server.send_message(message)\n",
    "    print('Sent')"
   ]
  },
  {
   "cell_type": "code",
   "execution_count": 10,
   "metadata": {},
   "outputs": [
    {
     "name": "stdout",
     "output_type": "stream",
     "text": [
      "Sent\n"
     ]
    }
   ],
   "source": [
    "send_email('operationalanalytics2@gmail.com','Hello Fabian','This is our email account')"
   ]
  },
  {
   "cell_type": "code",
   "execution_count": 15,
   "metadata": {},
   "outputs": [],
   "source": [
    "import pandas as pd \n",
    "import seaborn as sns\n",
    "import matplotlib.pyplot as plt\n",
    "from email.mime.image import MIMEImage\n",
    "import tempfile"
   ]
  },
  {
   "cell_type": "code",
   "execution_count": 22,
   "metadata": {},
   "outputs": [],
   "source": [
    "\n",
    "def send_html_email(recipients,subject,html_content, sns_graph):\n",
    "\n",
    "  # Create the email message\n",
    "    msg = MIMEMultipart('mixed')\n",
    "    msg['From'] = config['GMAIL']['sender']\n",
    "    msg['To'] = recipients #LIST  ['mail1@gmail.com','othermail@outlook.com']\n",
    "    msg['Subject'] = subject\n",
    "\n",
    "    # Attach HTML content to the email\n",
    "    html_part = MIMEText(html_content, 'html')\n",
    "    msg.attach(html_part)\n",
    "\n",
    "    # Attach the image file to the email\n",
    "    temp_file = tempfile.NamedTemporaryFile(suffix='.png', delete=False)\n",
    "    sns_graph.figure.savefig(temp_file.name)\n",
    "    #temp_file.close()\n",
    "    #with open(temp_file.name, 'rb') as fp:\n",
    "        #img = MIMEImage(fp.read())\n",
    "    img = MIMEImage(temp_file.read())\n",
    "    temp_file.close()\n",
    "    img.add_header('Content-Disposition', 'inline', filename=\"seaborn_plot.png\")\n",
    "    img.add_header('Content-ID', '<seaborn_plot.png>')  # IMPORTANT  MATCH\n",
    "    msg.attach(img)\n",
    "\n",
    "    # Connect to the SMTP server and send the email\n",
    "    with smtplib.SMTP(config['GMAIL']['server'], config['GMAIL']['port']) as server:\n",
    "        server.starttls()\n",
    "        server.login(config['GMAIL']['sender'], config['GMAIL']['password'])\n",
    "        server.send_message(msg)\n",
    "    \n",
    "    print(\"Email sent\")"
   ]
  },
  {
   "cell_type": "code",
   "execution_count": 23,
   "metadata": {},
   "outputs": [],
   "source": [
    "html_content = \"\"\"\n",
    "  <html>\n",
    "    <body>\n",
    "      <h2>Ball Joint</h2>\n",
    "      <p>Sending ball joint lineplot via gmail:</p>\n",
    "      <img src=\"cid:seaborn_plot.png\" alt=\"Seaborn Line Plot\">\n",
    "    </body>\n",
    "  </html>\n",
    "  \"\"\""
   ]
  },
  {
   "cell_type": "code",
   "execution_count": 13,
   "metadata": {},
   "outputs": [
    {
     "data": {
      "text/html": [
       "<div>\n",
       "<style scoped>\n",
       "    .dataframe tbody tr th:only-of-type {\n",
       "        vertical-align: middle;\n",
       "    }\n",
       "\n",
       "    .dataframe tbody tr th {\n",
       "        vertical-align: top;\n",
       "    }\n",
       "\n",
       "    .dataframe thead th {\n",
       "        text-align: right;\n",
       "    }\n",
       "</style>\n",
       "<table border=\"1\" class=\"dataframe\">\n",
       "  <thead>\n",
       "    <tr style=\"text-align: right;\">\n",
       "      <th></th>\n",
       "      <th>sample_no</th>\n",
       "      <th>x1</th>\n",
       "      <th>x2</th>\n",
       "      <th>x3</th>\n",
       "      <th>x4</th>\n",
       "      <th>x5</th>\n",
       "    </tr>\n",
       "  </thead>\n",
       "  <tbody>\n",
       "    <tr>\n",
       "      <th>0</th>\n",
       "      <td>1</td>\n",
       "      <td>224</td>\n",
       "      <td>220</td>\n",
       "      <td>221</td>\n",
       "      <td>222</td>\n",
       "      <td>224</td>\n",
       "    </tr>\n",
       "    <tr>\n",
       "      <th>1</th>\n",
       "      <td>2</td>\n",
       "      <td>222</td>\n",
       "      <td>220</td>\n",
       "      <td>221</td>\n",
       "      <td>223</td>\n",
       "      <td>223</td>\n",
       "    </tr>\n",
       "    <tr>\n",
       "      <th>2</th>\n",
       "      <td>3</td>\n",
       "      <td>223</td>\n",
       "      <td>221</td>\n",
       "      <td>224</td>\n",
       "      <td>224</td>\n",
       "      <td>221</td>\n",
       "    </tr>\n",
       "    <tr>\n",
       "      <th>3</th>\n",
       "      <td>4</td>\n",
       "      <td>223</td>\n",
       "      <td>221</td>\n",
       "      <td>223</td>\n",
       "      <td>223</td>\n",
       "      <td>223</td>\n",
       "    </tr>\n",
       "    <tr>\n",
       "      <th>4</th>\n",
       "      <td>5</td>\n",
       "      <td>223</td>\n",
       "      <td>221</td>\n",
       "      <td>221</td>\n",
       "      <td>223</td>\n",
       "      <td>220</td>\n",
       "    </tr>\n",
       "  </tbody>\n",
       "</table>\n",
       "</div>"
      ],
      "text/plain": [
       "   sample_no   x1   x2   x3   x4   x5\n",
       "0          1  224  220  221  222  224\n",
       "1          2  222  220  221  223  223\n",
       "2          3  223  221  224  224  221\n",
       "3          4  223  221  223  223  223\n",
       "4          5  223  221  221  223  220"
      ]
     },
     "execution_count": 13,
     "metadata": {},
     "output_type": "execute_result"
    }
   ],
   "source": [
    "data_df = pd.read_excel('dog_treats_data.xlsx')\n",
    "data_df.head()"
   ]
  },
  {
   "cell_type": "code",
   "execution_count": 19,
   "metadata": {},
   "outputs": [
    {
     "data": {
      "image/png": "[encoded data removed]",
      "text/plain": [
       "<Figure size 640x480 with 1 Axes>"
      ]
     },
     "metadata": {},
     "output_type": "display_data"
    }
   ],
   "source": [
    "sns_plot = sns.histplot(data=data_df,x='x1')"
   ]
  },
  {
   "cell_type": "code",
   "execution_count": null,
   "metadata": {},
   "outputs": [],
   "source": []
  },
  {
   "cell_type": "code",
   "execution_count": 24,
   "metadata": {},
   "outputs": [
    {
     "name": "stdout",
     "output_type": "stream",
     "text": [
      "Email sent\n"
     ]
    }
   ],
   "source": [
    "send_html_email('operationalanalytics2@gmail.com','Send a seaborn plot',html_content,sns_plot)"
   ]
  }
 ],
 "metadata": {
  "kernelspec": {
   "display_name": "uxs24",
   "language": "python",
   "name": "python3"
  },
  "language_info": {
   "codemirror_mode": {
    "name": "ipython",
    "version": 3
   },
   "file_extension": ".py",
   "mimetype": "text/x-python",
   "name": "python",
   "nbconvert_exporter": "python",
   "pygments_lexer": "ipython3",
   "version": "3.9.19"
  }
 },
 "nbformat": 4,
 "nbformat_minor": 2
}
